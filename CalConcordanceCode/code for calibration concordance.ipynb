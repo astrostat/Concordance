{
 "cells": [
  {
   "cell_type": "code",
   "execution_count": null,
   "metadata": {
    "collapsed": true
   },
   "outputs": [],
   "source": [
    "import numpy as np\n",
    "import pandas as pd\n",
    "from simulation import simulateData\n",
    "from MAP import mapFit\n",
    "from MCMC import stanTopkl, MCMCFit\n",
    "from generatehistogram import generatehistogramfunc, makeresidueplot, comparelognormallogt\n",
    "import pickle\n",
    "import math as math\n",
    "import matplotlib.pyplot as plt\n",
    "%matplotlib inline"
   ]
  },
  {
   "cell_type": "code",
   "execution_count": null,
   "metadata": {},
   "outputs": [],
   "source": [
    "## If it is the first time to run this code, please run this function. Otherwise, skip this part.\n",
    "## This function is to complie 'stan' models first and avoid recomplie of the models.\n",
    "stanTopkl()"
   ]
  },
  {
   "cell_type": "markdown",
   "metadata": {},
   "source": [
    "## Simulations with a Correctly Specified Model\n",
    "### N=10, M=40, B=5, G=3"
   ]
  },
  {
   "cell_type": "code",
   "execution_count": null,
   "metadata": {},
   "outputs": [],
   "source": [
    "N = 10\n",
    "M = 40\n",
    "sigma = np.repeat(0.1, N*M).reshape((N, M))\n",
    "tau = np.repeat(0.05, N)\n",
    "B = np.repeat(5, N)\n",
    "G = np.repeat(3, M)\n",
    "\n",
    "Y, b = simulateData(N, M, B, G, sigma, model = 'normal')\n",
    "mapResult = mapFit(Y, sigma, b, tau)\n",
    "mcmcChain, mcmcRes = MCMCFit(Y, b, tau, model = 'log_normal', df = 2, beta = 0.01)\n",
    "tChain, tRes = MCMCFit(Y, b, tau, model = 'log_t', nu = 4, sigma = 0.141)"
   ]
  },
  {
   "cell_type": "code",
   "execution_count": null,
   "metadata": {
    "collapsed": true
   },
   "outputs": [],
   "source": [
    "generatehistogramfunc(mcmcChain, mapResult, N, M, B, G, sigma)"
   ]
  },
  {
   "cell_type": "code",
   "execution_count": null,
   "metadata": {
    "collapsed": true
   },
   "outputs": [],
   "source": [
    "makeresidueplot (N, M, Y, mcmcRes, mcmcChain, tRes, tChain)"
   ]
  },
  {
   "cell_type": "code",
   "execution_count": null,
   "metadata": {
    "collapsed": true
   },
   "outputs": [],
   "source": [
    "comparelognormallogt (N, M, mcmcChain, tChain, B)"
   ]
  }
 ],
 "metadata": {
  "anaconda-cloud": {},
  "kernelspec": {
   "display_name": "Python [default]",
   "language": "python",
   "name": "python3"
  },
  "language_info": {
   "codemirror_mode": {
    "name": "ipython",
    "version": 3
   },
   "file_extension": ".py",
   "mimetype": "text/x-python",
   "name": "python",
   "nbconvert_exporter": "python",
   "pygments_lexer": "ipython3",
   "version": "3.5.3"
  }
 },
 "nbformat": 4,
 "nbformat_minor": 1
}
